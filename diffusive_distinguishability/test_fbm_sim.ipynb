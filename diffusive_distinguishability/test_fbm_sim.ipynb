{
 "cells": [
  {
   "cell_type": "code",
   "execution_count": 8,
   "metadata": {},
   "outputs": [],
   "source": [
    "import numpy as np\n",
    "import pandas as pd\n",
    "import seaborn as sb\n",
    "import matplotlib.pyplot as plt\n",
    "\n",
    "# import bayesian estimation package\n",
    "import ndim_homogeneous_distinguishability as hd"
   ]
  },
  {
   "cell_type": "code",
   "execution_count": 5,
   "metadata": {},
   "outputs": [],
   "source": [
    "n_dim = 1\n",
    "df = hd.simulate_fbm_df(n_dim=n_dim, hurst=0.2, n_steps=30, dt=1, loc_std=0.5)"
   ]
  },
  {
   "cell_type": "code",
   "execution_count": 6,
   "metadata": {},
   "outputs": [
    {
     "data": {
      "text/html": [
       "<div>\n",
       "<style scoped>\n",
       "    .dataframe tbody tr th:only-of-type {\n",
       "        vertical-align: middle;\n",
       "    }\n",
       "\n",
       "    .dataframe tbody tr th {\n",
       "        vertical-align: top;\n",
       "    }\n",
       "\n",
       "    .dataframe thead th {\n",
       "        text-align: right;\n",
       "    }\n",
       "</style>\n",
       "<table border=\"1\" class=\"dataframe\">\n",
       "  <thead>\n",
       "    <tr style=\"text-align: right;\">\n",
       "      <th></th>\n",
       "      <th>dr</th>\n",
       "      <th>dr_obs</th>\n",
       "      <th>dx</th>\n",
       "      <th>dx_obs</th>\n",
       "      <th>t_step</th>\n",
       "      <th>x</th>\n",
       "      <th>x_obs</th>\n",
       "    </tr>\n",
       "  </thead>\n",
       "  <tbody>\n",
       "    <tr>\n",
       "      <th>0</th>\n",
       "      <td>0.207015</td>\n",
       "      <td>0.436680</td>\n",
       "      <td>[0.20701506667995895]</td>\n",
       "      <td>[-0.43668029864696034]</td>\n",
       "      <td>0.0</td>\n",
       "      <td>[0.0]</td>\n",
       "      <td>[0.3707478852322768]</td>\n",
       "    </tr>\n",
       "    <tr>\n",
       "      <th>1</th>\n",
       "      <td>0.586968</td>\n",
       "      <td>1.130024</td>\n",
       "      <td>[0.586967703392414]</td>\n",
       "      <td>[1.1300237135076567]</td>\n",
       "      <td>1.0</td>\n",
       "      <td>[0.20701506667995895]</td>\n",
       "      <td>[-0.06593241341468353]</td>\n",
       "    </tr>\n",
       "    <tr>\n",
       "      <th>2</th>\n",
       "      <td>0.510416</td>\n",
       "      <td>0.576227</td>\n",
       "      <td>[0.5104158054163529]</td>\n",
       "      <td>[0.5762273044454744]</td>\n",
       "      <td>2.0</td>\n",
       "      <td>[0.793982770072373]</td>\n",
       "      <td>[1.0640913000929733]</td>\n",
       "    </tr>\n",
       "    <tr>\n",
       "      <th>3</th>\n",
       "      <td>1.507296</td>\n",
       "      <td>1.459532</td>\n",
       "      <td>[1.5072956161730817]</td>\n",
       "      <td>[1.4595323176653607]</td>\n",
       "      <td>3.0</td>\n",
       "      <td>[1.304398575488726]</td>\n",
       "      <td>[1.6403186045384477]</td>\n",
       "    </tr>\n",
       "    <tr>\n",
       "      <th>4</th>\n",
       "      <td>1.224473</td>\n",
       "      <td>0.422200</td>\n",
       "      <td>[1.224472993887042]</td>\n",
       "      <td>[0.42219976919908087]</td>\n",
       "      <td>4.0</td>\n",
       "      <td>[2.8116941916618075]</td>\n",
       "      <td>[3.0998509222038084]</td>\n",
       "    </tr>\n",
       "  </tbody>\n",
       "</table>\n",
       "</div>"
      ],
      "text/plain": [
       "         dr    dr_obs                     dx                  dx_obs  t_step  \\\n",
       "0  0.207015  0.436680  [0.20701506667995895]  [-0.43668029864696034]     0.0   \n",
       "1  0.586968  1.130024    [0.586967703392414]    [1.1300237135076567]     1.0   \n",
       "2  0.510416  0.576227   [0.5104158054163529]    [0.5762273044454744]     2.0   \n",
       "3  1.507296  1.459532   [1.5072956161730817]    [1.4595323176653607]     3.0   \n",
       "4  1.224473  0.422200    [1.224472993887042]   [0.42219976919908087]     4.0   \n",
       "\n",
       "                       x                   x_obs  \n",
       "0                  [0.0]    [0.3707478852322768]  \n",
       "1  [0.20701506667995895]  [-0.06593241341468353]  \n",
       "2    [0.793982770072373]    [1.0640913000929733]  \n",
       "3    [1.304398575488726]    [1.6403186045384477]  \n",
       "4   [2.8116941916618075]    [3.0998509222038084]  "
      ]
     },
     "execution_count": 6,
     "metadata": {},
     "output_type": "execute_result"
    }
   ],
   "source": [
    "df.head()"
   ]
  },
  {
   "cell_type": "code",
   "execution_count": 7,
   "metadata": {},
   "outputs": [
    {
     "data": {
      "image/png": "[encoded data removed]",
      "text/plain": [
       "<Figure size 432x288 with 1 Axes>"
      ]
     },
     "metadata": {},
     "output_type": "display_data"
    }
   ],
   "source": [
    "if n_dim ==2:\n",
    "    plt.plot([x[0] for x in df['x']], [x[1] for x in df['x']], label='true')\n",
    "    plt.plot([x[0] for x in df['x']], [x[1] for x in df['x_obs']], label='obs');\n",
    "    plt.xlabel('x (um)')\n",
    "    plt.ylabel('y (um)')\n",
    "    plt.legend()\n",
    "if n_dim ==1:\n",
    "    plt.plot([t for t in df['t_step']], [x[0] for x in df['x']], label='true')\n",
    "    plt.plot([t for t in df['t_step']], [x[0] for x in df['x_obs']], label='obs');\n",
    "    plt.xlabel('time (s)')\n",
    "    plt.ylabel('x (um)')\n",
    "    plt.legend()"
   ]
  },
  {
   "cell_type": "code",
   "execution_count": null,
   "metadata": {},
   "outputs": [],
   "source": []
  }
 ],
 "metadata": {
  "kernelspec": {
   "display_name": "Python 3",
   "language": "python",
   "name": "python3"
  },
  "language_info": {
   "codemirror_mode": {
    "name": "ipython",
    "version": 3
   },
   "file_extension": ".py",
   "mimetype": "text/x-python",
   "name": "python",
   "nbconvert_exporter": "python",
   "pygments_lexer": "ipython3",
   "version": "3.6.7"
  }
 },
 "nbformat": 4,
 "nbformat_minor": 2
}
