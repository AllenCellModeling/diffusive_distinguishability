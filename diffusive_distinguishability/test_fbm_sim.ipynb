{
 "cells": [
  {
   "cell_type": "code",
   "execution_count": 1,
   "metadata": {},
   "outputs": [],
   "source": [
    "import numpy as np\n",
    "import pandas as pd\n",
    "import seaborn as sb\n",
    "import matplotlib.pyplot as plt\n",
    "\n",
    "# import bayesian estimation package\n",
    "import ndim_homogeneous_distinguishability as hd"
   ]
  },
  {
   "cell_type": "code",
   "execution_count": 23,
   "metadata": {},
   "outputs": [
    {
     "name": "stderr",
     "output_type": "stream",
     "text": [
      "/Users/juliec/anaconda3/lib/python3.6/site-packages/fbm/fbm.py:172: UserWarning: Combination of increments n and Hurst value H invalid for Davies-Harte method. Reverting to Hosking method. Occurs when n is small and Hurst is close to 1. \n",
      "  \"Combination of increments n and Hurst value H \"\n"
     ]
    }
   ],
   "source": [
    "n_dim = 1\n",
    "df = hd.simulate_fbm_df(n_dim=n_dim, hurst=0.9, n_steps=10, dt=1, loc_std=0.0)"
   ]
  },
  {
   "cell_type": "code",
   "execution_count": 24,
   "metadata": {},
   "outputs": [
    {
     "data": {
      "text/html": [
       "<div>\n",
       "<style scoped>\n",
       "    .dataframe tbody tr th:only-of-type {\n",
       "        vertical-align: middle;\n",
       "    }\n",
       "\n",
       "    .dataframe tbody tr th {\n",
       "        vertical-align: top;\n",
       "    }\n",
       "\n",
       "    .dataframe thead th {\n",
       "        text-align: right;\n",
       "    }\n",
       "</style>\n",
       "<table border=\"1\" class=\"dataframe\">\n",
       "  <thead>\n",
       "    <tr style=\"text-align: right;\">\n",
       "      <th></th>\n",
       "      <th>dr</th>\n",
       "      <th>dr_obs</th>\n",
       "      <th>dx</th>\n",
       "      <th>dx_obs</th>\n",
       "      <th>t_step</th>\n",
       "      <th>x</th>\n",
       "      <th>x_obs</th>\n",
       "    </tr>\n",
       "  </thead>\n",
       "  <tbody>\n",
       "    <tr>\n",
       "      <th>0</th>\n",
       "      <td>0.172641</td>\n",
       "      <td>0.172641</td>\n",
       "      <td>[-0.17264051804362465]</td>\n",
       "      <td>[-0.17264051804362465]</td>\n",
       "      <td>0.0</td>\n",
       "      <td>[0.0]</td>\n",
       "      <td>[0.0]</td>\n",
       "    </tr>\n",
       "    <tr>\n",
       "      <th>1</th>\n",
       "      <td>0.106233</td>\n",
       "      <td>0.106233</td>\n",
       "      <td>[0.10623303253022612]</td>\n",
       "      <td>[0.10623303253022612]</td>\n",
       "      <td>1.0</td>\n",
       "      <td>[-0.17264051804362465]</td>\n",
       "      <td>[-0.17264051804362465]</td>\n",
       "    </tr>\n",
       "    <tr>\n",
       "      <th>2</th>\n",
       "      <td>0.770670</td>\n",
       "      <td>0.770670</td>\n",
       "      <td>[-0.7706696368635327]</td>\n",
       "      <td>[-0.7706696368635328]</td>\n",
       "      <td>2.0</td>\n",
       "      <td>[-0.06640748551339853]</td>\n",
       "      <td>[-0.06640748551339853]</td>\n",
       "    </tr>\n",
       "    <tr>\n",
       "      <th>3</th>\n",
       "      <td>1.424842</td>\n",
       "      <td>1.424842</td>\n",
       "      <td>[-1.4248419311099845]</td>\n",
       "      <td>[-1.4248419311099847]</td>\n",
       "      <td>3.0</td>\n",
       "      <td>[-0.8370771223769313]</td>\n",
       "      <td>[-0.8370771223769313]</td>\n",
       "    </tr>\n",
       "    <tr>\n",
       "      <th>4</th>\n",
       "      <td>2.629692</td>\n",
       "      <td>2.629692</td>\n",
       "      <td>[-2.6296918064734816]</td>\n",
       "      <td>[-2.629691806473482]</td>\n",
       "      <td>4.0</td>\n",
       "      <td>[-2.261919053486916]</td>\n",
       "      <td>[-2.261919053486916]</td>\n",
       "    </tr>\n",
       "  </tbody>\n",
       "</table>\n",
       "</div>"
      ],
      "text/plain": [
       "         dr    dr_obs                      dx                  dx_obs  t_step  \\\n",
       "0  0.172641  0.172641  [-0.17264051804362465]  [-0.17264051804362465]     0.0   \n",
       "1  0.106233  0.106233   [0.10623303253022612]   [0.10623303253022612]     1.0   \n",
       "2  0.770670  0.770670   [-0.7706696368635327]   [-0.7706696368635328]     2.0   \n",
       "3  1.424842  1.424842   [-1.4248419311099845]   [-1.4248419311099847]     3.0   \n",
       "4  2.629692  2.629692   [-2.6296918064734816]    [-2.629691806473482]     4.0   \n",
       "\n",
       "                        x                   x_obs  \n",
       "0                   [0.0]                   [0.0]  \n",
       "1  [-0.17264051804362465]  [-0.17264051804362465]  \n",
       "2  [-0.06640748551339853]  [-0.06640748551339853]  \n",
       "3   [-0.8370771223769313]   [-0.8370771223769313]  \n",
       "4    [-2.261919053486916]    [-2.261919053486916]  "
      ]
     },
     "execution_count": 24,
     "metadata": {},
     "output_type": "execute_result"
    }
   ],
   "source": [
    "df.head()"
   ]
  },
  {
   "cell_type": "code",
   "execution_count": 25,
   "metadata": {},
   "outputs": [
    {
     "data": {
      "image/png": "[encoded data removed]",
      "text/plain": [
       "<Figure size 432x288 with 1 Axes>"
      ]
     },
     "metadata": {},
     "output_type": "display_data"
    }
   ],
   "source": [
    "if n_dim ==2:\n",
    "    plt.plot([x[0] for x in df['x']], [x[1] for x in df['x']], label='true')\n",
    "    plt.plot([x[0] for x in df['x']], [x[1] for x in df['x_obs']], label='obs');\n",
    "    plt.xlabel('x (um)')\n",
    "    plt.ylabel('y (um)')\n",
    "    plt.legend()\n",
    "if n_dim ==1:\n",
    "    plt.plot([t for t in df['t_step']], [x[0] for x in df['x']], label='true')\n",
    "    plt.plot([t for t in df['t_step']], [x[0] for x in df['x_obs']], label='obs');\n",
    "    plt.xlabel('time (s)')\n",
    "    plt.ylabel('x (um)')\n",
    "    plt.legend()"
   ]
  },
  {
   "cell_type": "code",
   "execution_count": null,
   "metadata": {},
   "outputs": [],
   "source": []
  }
 ],
 "metadata": {
  "kernelspec": {
   "display_name": "Python 3",
   "language": "python",
   "name": "python3"
  },
  "language_info": {
   "codemirror_mode": {
    "name": "ipython",
    "version": 3
   },
   "file_extension": ".py",
   "mimetype": "text/x-python",
   "name": "python",
   "nbconvert_exporter": "python",
   "pygments_lexer": "ipython3",
   "version": "3.6.7"
  }
 },
 "nbformat": 4,
 "nbformat_minor": 2
}
