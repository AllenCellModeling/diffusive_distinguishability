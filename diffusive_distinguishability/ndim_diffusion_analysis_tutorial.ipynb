{
 "cells": [
  {
   "cell_type": "markdown",
   "metadata": {},
   "source": [
    "# Bayesian estimation of distinguishability of homogeneous diffusion constants from trajectories"
   ]
  },
  {
   "cell_type": "markdown",
   "metadata": {},
   "source": [
    "This notebook gives example analysis for how to use and interact with the n_dim_homogeneous_distinguishability.py package."
   ]
  },
  {
   "cell_type": "markdown",
   "metadata": {},
   "source": [
    "## \"Experimental\" Parameters\n",
    "(Parameters which would be tunable in experimental setup)\n",
    "- Trajectory length (T)\n",
    "- Trajectory timestep (dt)\n",
    "- Number of trajectories (N)\n",
    "- Number of spatial paramters in trajectory (n_dim)\n",
    "\n",
    "## \"Sample\" Parameters\n",
    "(Parameters that would be inherent to the sample, not experimentally tunable)\n",
    "- Diffusion constant values (D)\n",
    "- Initial positions (x0)\n",
    "- Size of space (xlim: set in diffusion package)"
   ]
  },
  {
   "cell_type": "code",
   "execution_count": 1,
   "metadata": {},
   "outputs": [],
   "source": [
    "import numpy as np\n",
    "import pandas as pd\n",
    "import seaborn as sb\n",
    "import matplotlib.pyplot as plt\n",
    "\n",
    "# import bayesian estimation package\n",
    "import ndim_homogeneous_distinguishability as hd"
   ]
  },
  {
   "cell_type": "markdown",
   "metadata": {},
   "source": [
    "## Simulating homogeneous diffusion trajectories with localization error"
   ]
  },
  {
   "cell_type": "markdown",
   "metadata": {},
   "source": [
    "First, let's generate a noiseless simulated diffusive trajectory in 2D, with 10 steps at a frame rate of 1 second, with diffusion constant of 0.01 um2/s:"
   ]
  },
  {
   "cell_type": "code",
   "execution_count": 14,
   "metadata": {},
   "outputs": [
    {
     "data": {
      "text/html": [
       "<div>\n",
       "<style scoped>\n",
       "    .dataframe tbody tr th:only-of-type {\n",
       "        vertical-align: middle;\n",
       "    }\n",
       "\n",
       "    .dataframe tbody tr th {\n",
       "        vertical-align: top;\n",
       "    }\n",
       "\n",
       "    .dataframe thead th {\n",
       "        text-align: right;\n",
       "    }\n",
       "</style>\n",
       "<table border=\"1\" class=\"dataframe\">\n",
       "  <thead>\n",
       "    <tr style=\"text-align: right;\">\n",
       "      <th></th>\n",
       "      <th>dr</th>\n",
       "      <th>dr_obs</th>\n",
       "      <th>dx</th>\n",
       "      <th>dx_obs</th>\n",
       "      <th>t_step</th>\n",
       "      <th>x</th>\n",
       "      <th>x_obs</th>\n",
       "    </tr>\n",
       "  </thead>\n",
       "  <tbody>\n",
       "    <tr>\n",
       "      <th>0</th>\n",
       "      <td>0.100933</td>\n",
       "      <td>0.076706</td>\n",
       "      <td>[-0.10025688797741404, -0.011665150160517281]</td>\n",
       "      <td>[-0.0766529914065556, -0.00284219296247838]</td>\n",
       "      <td>0.0</td>\n",
       "      <td>[0.0, 0.0]</td>\n",
       "      <td>[-0.014913088887336461, 0.000619301601197455]</td>\n",
       "    </tr>\n",
       "    <tr>\n",
       "      <th>1</th>\n",
       "      <td>0.153683</td>\n",
       "      <td>0.133312</td>\n",
       "      <td>[0.09698028378727101, -0.11921894565052923]</td>\n",
       "      <td>[0.06125711577180479, -0.11840514088128527]</td>\n",
       "      <td>1.0</td>\n",
       "      <td>[-0.10025688797741404, -0.011665150160517281]</td>\n",
       "      <td>[-0.09156608029389206, -0.0022228913612809247]</td>\n",
       "    </tr>\n",
       "    <tr>\n",
       "      <th>2</th>\n",
       "      <td>0.286455</td>\n",
       "      <td>0.273697</td>\n",
       "      <td>[0.07291617354883019, -0.2770189110660235]</td>\n",
       "      <td>[0.07193438645087781, -0.26407509716941613]</td>\n",
       "      <td>2.0</td>\n",
       "      <td>[-0.0032766041901430287, -0.1308840958110465]</td>\n",
       "      <td>[-0.03030896452208727, -0.1206280322425662]</td>\n",
       "    </tr>\n",
       "    <tr>\n",
       "      <th>3</th>\n",
       "      <td>0.093206</td>\n",
       "      <td>0.065461</td>\n",
       "      <td>[-0.031817412395980516, 0.08760669580371595]</td>\n",
       "      <td>[0.005107782772672036, 0.06526180454778685]</td>\n",
       "      <td>3.0</td>\n",
       "      <td>[0.06963956935868716, -0.40790300687707004]</td>\n",
       "      <td>[0.04162542192879054, -0.3847031294119823]</td>\n",
       "    </tr>\n",
       "    <tr>\n",
       "      <th>4</th>\n",
       "      <td>0.112573</td>\n",
       "      <td>0.116867</td>\n",
       "      <td>[-0.11080108157814281, -0.01989437857322049]</td>\n",
       "      <td>[-0.1158949331357631, -0.015039251649358043]</td>\n",
       "      <td>4.0</td>\n",
       "      <td>[0.037822156962706646, -0.3202963110733541]</td>\n",
       "      <td>[0.046733204701462576, -0.31944132486419546]</td>\n",
       "    </tr>\n",
       "  </tbody>\n",
       "</table>\n",
       "</div>"
      ],
      "text/plain": [
       "         dr    dr_obs                                             dx  \\\n",
       "0  0.100933  0.076706  [-0.10025688797741404, -0.011665150160517281]   \n",
       "1  0.153683  0.133312    [0.09698028378727101, -0.11921894565052923]   \n",
       "2  0.286455  0.273697     [0.07291617354883019, -0.2770189110660235]   \n",
       "3  0.093206  0.065461   [-0.031817412395980516, 0.08760669580371595]   \n",
       "4  0.112573  0.116867   [-0.11080108157814281, -0.01989437857322049]   \n",
       "\n",
       "                                         dx_obs  t_step  \\\n",
       "0   [-0.0766529914065556, -0.00284219296247838]     0.0   \n",
       "1   [0.06125711577180479, -0.11840514088128527]     1.0   \n",
       "2   [0.07193438645087781, -0.26407509716941613]     2.0   \n",
       "3   [0.005107782772672036, 0.06526180454778685]     3.0   \n",
       "4  [-0.1158949331357631, -0.015039251649358043]     4.0   \n",
       "\n",
       "                                               x  \\\n",
       "0                                     [0.0, 0.0]   \n",
       "1  [-0.10025688797741404, -0.011665150160517281]   \n",
       "2  [-0.0032766041901430287, -0.1308840958110465]   \n",
       "3    [0.06963956935868716, -0.40790300687707004]   \n",
       "4    [0.037822156962706646, -0.3202963110733541]   \n",
       "\n",
       "                                            x_obs  \n",
       "0   [-0.014913088887336461, 0.000619301601197455]  \n",
       "1  [-0.09156608029389206, -0.0022228913612809247]  \n",
       "2     [-0.03030896452208727, -0.1206280322425662]  \n",
       "3      [0.04162542192879054, -0.3847031294119823]  \n",
       "4    [0.046733204701462576, -0.31944132486419546]  "
      ]
     },
     "execution_count": 14,
     "metadata": {},
     "output_type": "execute_result"
    }
   ],
   "source": [
    "df1 = hd.simulate_diffusion_df(n_dim = 2, d_const = 0.01, n_steps = 100, dt = 1, loc_std = 0.03)\n",
    "df1.head()"
   ]
  },
  {
   "cell_type": "markdown",
   "metadata": {},
   "source": [
    "This created a trajectory with true positions x (each with two components because we chose to generate a trajectory in 2D) and observed positions x_obs, which are slightly different from x because we included localization error. The dx and dx_obs series contain the dimensionwise displacements (true and observed) whereas dr and dr_obs contain their absolute magnitudes (framewise step sizes). What do these trajectories look like? Let's plot them to see."
   ]
  },
  {
   "cell_type": "code",
   "execution_count": 15,
   "metadata": {},
   "outputs": [
    {
     "data": {
      "text/plain": [
       "<matplotlib.legend.Legend at 0x7f5967434ac8>"
      ]
     },
     "execution_count": 15,
     "metadata": {},
     "output_type": "execute_result"
    },
    {
     "data": {
      "image/png": "[encoded data removed]",
      "text/plain": [
       "<Figure size 432x288 with 1 Axes>"
      ]
     },
     "metadata": {
      "needs_background": "light"
     },
     "output_type": "display_data"
    }
   ],
   "source": [
    "plt.plot([x[0] for x in df1['x']], [x[1] for x in df1['x']], label='true')\n",
    "plt.plot([x[0] for x in df1['x']], [x[1] for x in df1['x_obs']], label='obs');\n",
    "plt.xlabel('x (um)')\n",
    "plt.ylabel('y (um)')\n",
    "plt.legend()"
   ]
  },
  {
   "cell_type": "markdown",
   "metadata": {},
   "source": [
    "## Estimating the underlying diffusion constant using bayesian inference"
   ]
  },
  {
   "cell_type": "markdown",
   "metadata": {},
   "source": [
    "Imagining we don't know the real answer, can we use the set of step sizes to predict what the underlying diffusion constant was? Let's generate a posterior distribution for this set of (noisy) step sizes by passing them into our estimation method. Because we are predictin the variance of a nromal distribution with known mean, a inverse gamma function (parameterized by 'alpha' and 'beta' as a conjugate prior (https://en.wikipedia.org/wiki/Normal_distribution#With_known_mean)."
   ]
  },
  {
   "cell_type": "code",
   "execution_count": 16,
   "metadata": {},
   "outputs": [
    {
     "data": {
      "image/png": "[encoded data removed]",
      "text/plain": [
       "<Figure size 432x288 with 1 Axes>"
      ]
     },
     "metadata": {
      "needs_background": "light"
     },
     "output_type": "display_data"
    }
   ],
   "source": [
    "posterior, alpha, beta = hd.estimate_diffusion(n_dim = 2, dt = 1, dr = df1['dr_obs'])\n",
    "xx = np.linspace(0,0.02, 50)\n",
    "plt.plot(xx, posterior.pdf(xx))\n",
    "plt.axvline(x=0.01, linestyle=':')\n",
    "plt.xlabel('Diffusion Constant')\n",
    "plt.ylabel('Probability density');"
   ]
  },
  {
   "cell_type": "markdown",
   "metadata": {},
   "source": [
    "Side note: there is also a single function which performs both the simulation and esimation steps in a single step ('generate_posterior). This seemingly redundant function was written for the sake of parallel processing, which requires a single function call. For example, if for statistical reasons, I was interested in how the posteriors would vary if I reran the above analysis many times, I could do so using a parallelized function that returns the list of all values for the posterior parameters alpha and beta for each rerun of the simulation, as well as their median values."
   ]
  },
  {
   "cell_type": "code",
   "execution_count": 18,
   "metadata": {},
   "outputs": [
    {
     "name": "stdout",
     "output_type": "stream",
     "text": [
      "Median beta value: 1.0274985802812202\n"
     ]
    },
    {
     "name": "stderr",
     "output_type": "stream",
     "text": [
      "/home/juliec/miniconda3/envs/trans_env/lib/python3.7/site-packages/scipy/stats/stats.py:1713: FutureWarning: Using a non-tuple sequence for multidimensional indexing is deprecated; use `arr[tuple(seq)]` instead of `arr[seq]`. In the future this will be interpreted as an array index, `arr[np.array(seq)]`, which will result either in an error or a different result.\n",
      "  return np.add.reduce(sorted[indexer] * weights, axis=axis) / sumval\n"
     ]
    },
    {
     "data": {
      "image/png": "[encoded data removed]",
      "text/plain": [
       "<Figure size 432x288 with 1 Axes>"
      ]
     },
     "metadata": {
      "needs_background": "light"
     },
     "output_type": "display_data"
    }
   ],
   "source": [
    "alpha_median, beta_median, alphas, betas = hd.get_posterior_set(n_dim=2, d_const=0.01, n_steps=100, dt=1, n_reps=500, loc_std=0.02)\n",
    "print('Median beta value: '+str(beta_median))\n",
    "sb.distplot(betas, bins=30);"
   ]
  },
  {
   "cell_type": "markdown",
   "metadata": {},
   "source": [
    "Back to our single posterior. How far off was this estimate? Let's calculate the percent error between the mean of this distribution and the true diffusion constant."
   ]
  },
  {
   "cell_type": "code",
   "execution_count": 19,
   "metadata": {},
   "outputs": [
    {
     "name": "stdout",
     "output_type": "stream",
     "text": [
      "percent error = 2.3132050244128317\n"
     ]
    }
   ],
   "source": [
    "print('percent error = '+str(100*((posterior.mean() - 0.01)/0.01)))\n",
    "# calculate percent error of posterior relative to true diffusion constant value"
   ]
  },
  {
   "cell_type": "markdown",
   "metadata": {},
   "source": [
    "Now let's say I want to compare the posterior distributions I get for two trajectories with identical parameterizations but different diffusion constants (i.e. same number of spatial dimensions, same length, tmeporal resolution and localization error). I can generate and view a single posterior for these two trajectoires with diffusion constants D1 and D2=mult*D1 using a comparison method."
   ]
  },
  {
   "cell_type": "markdown",
   "metadata": {},
   "source": [
    "## Comparing posteriors for trajectories with differing underlying diffusion constants"
   ]
  },
  {
   "cell_type": "code",
   "execution_count": 22,
   "metadata": {},
   "outputs": [
    {
     "name": "stdout",
     "output_type": "stream",
     "text": [
      "KL div: 18.59501279624385\n",
      "Inverse: 0.05377786027670805\n"
     ]
    },
    {
     "data": {
      "image/png": "[encoded data removed]",
      "text/plain": [
       "<Figure size 432x288 with 1 Axes>"
      ]
     },
     "metadata": {
      "needs_background": "light"
     },
     "output_type": "display_data"
    }
   ],
   "source": [
    "hd.compare2(n_dim=3, d_const1=0.01, mult=1.5, n_steps=200, dt=1, n_reps=10, loc_std = 0.03)"
   ]
  },
  {
   "cell_type": "markdown",
   "metadata": {},
   "source": [
    "This method also printed out for us the KL divergence between these two distributions, and its inverse, calculated using the 'invgamma_kldiv' function, based on this reference: https://arxiv.org/pdf/1605.01019.pdf. The inverse of the KL divergence is useful for thinking about psoterior distributions, because it is approximately the number of times you could draw from one distribution in place of the other before there is a significant amount of information loss. This offers us a single measurement of our ability to distinguish whether there is a difference between the diffusion constants underlying these two input trajectories."
   ]
  },
  {
   "cell_type": "markdown",
   "metadata": {},
   "source": [
    "## Now let's repeat this for many pairs of diffusion constants, and trajectories of many lengths, to create an experimental \"lookup table\""
   ]
  },
  {
   "cell_type": "markdown",
   "metadata": {},
   "source": [
    "Given two trajectories, our ability to distinguish whether their underlying diffusion constants differ willbe limited by how similar or different those two diffusion constants are (the 'mult' parameter in the 'compare2' function above). It will also be limited by the accuracy of the diffusion constant estimates themselves; given shorter trajectory length, we will have less information and therefor less accurate diffsuion estimates than if we had longer trajectories. To quantitatively explore the combination of these effects, we create a heatmap of pairwise posterior KL divergences, conditional on both the trajectory length and the relative diffusivity values. Each pixel in the heatmap will be the median values from N reps of calculating the KL divergence of a pair of posteriors estimated for trajcetories with diffusion cosntants D1 and D2, with trajcetory length T."
   ]
  },
  {
   "cell_type": "code",
   "execution_count": 28,
   "metadata": {},
   "outputs": [],
   "source": [
    "n_steps = [5, 25, 50, 100, 200, 500, 1000]\n",
    "# set diffusion constant multipliers to sweep through (D2 = mult*D1)\n",
    "d_const1 = 0.01\n",
    "Mmin = 1.0\n",
    "Mmax = 15.\n",
    "numM = 30\n",
    "mult_list = np.logspace(np.log10(Mmin), np.log10(Mmax), numM)\n",
    "\n",
    "# set trajectory lengths, timestep, and number of rep's on each D\n",
    "dt = 1\n",
    "n_reps = 10**3"
   ]
  },
  {
   "cell_type": "markdown",
   "metadata": {},
   "source": [
    "To see biologically relevant examples for diffusion constant orders of magnitude, check out BioNumbers:\n",
    "\n",
    "http://book.bionumbers.org/what-are-the-time-scales-for-diffusion-in-cells/"
   ]
  },
  {
   "cell_type": "code",
   "execution_count": null,
   "metadata": {},
   "outputs": [],
   "source": [
    "# get df of pairwise KL divergence for each pair (D, mult*D)\n",
    "KL_sweep_df_T = hd.fill_heatmap_gen(n_dim=3, d_const=d_const1, mult_list=mult_list, n_steps=n_steps, dt=dt, n_reps=n_reps)"
   ]
  },
  {
   "cell_type": "code",
   "execution_count": null,
   "metadata": {},
   "outputs": [],
   "source": [
    "# and plot that df as a heatmap of KL divergence values, and the log of the KL divergence values\n",
    "x_lab = 'Trajectory Length T'\n",
    "y_lab = r'$D_2/D_1$'t1 = 'KL Divergence'\n",
    "t2 = 'Log10(KL Divergence)'\n",
    "hd.plot_df_results(df1=KL_sweep_df_T, df2=np.log10(KL_sweep_df_T), n_round=2, n_ticks=12, size=8, title1=t1, title2=t2, x_lab=x_lab, y_lab=y_lab)"
   ]
  },
  {
   "cell_type": "code",
   "execution_count": null,
   "metadata": {},
   "outputs": [],
   "source": [
    "# now, let's look at the same results, but for the inverse of the KL divergence\n",
    "t1 = '1/KL'\n",
    "t2 = 'Log10(1/KL)'\n",
    "dfT = 1/KL_sweep_df_T\n",
    "hd.plot_df_results(df1=dfT, df2=np.log10(dfT), n_round=2, n_ticks=12, size=8, title1=t1, title2=t2, x_lab=x_lab, y_lab=y_lab)"
   ]
  },
  {
   "cell_type": "markdown",
   "metadata": {},
   "source": [
    "## Localization error"
   ]
  },
  {
   "cell_type": "markdown",
   "metadata": {},
   "source": [
    "### Distribution of percent errors in the posterior, for a given trajectory length and localization error"
   ]
  },
  {
   "cell_type": "markdown",
   "metadata": {},
   "source": [
    "If we include localization error, how does it impact the error in our diffusion constant estimates, depending on number of spatial dimensions? To look into this, we select one set of simulation parameters and rerun the trajectory simulation and posterior estimation N times, and collect a histogram of the percent error of the predicted diffusion constant relative to the true value. We repeat this in 1, 2, and 3 dimensions with all other trajectory parameters unchanged; then we can compare the resulting histograms across dimensions and decide whether we see an effect."
   ]
  },
  {
   "cell_type": "code",
   "execution_count": null,
   "metadata": {},
   "outputs": [],
   "source": [
    "d_const = 0.1\n",
    "n_steps = 10**3\n",
    "dt = 1\n",
    "n_reps = 10**4\n",
    "n_dim = [1, 2, 3]"
   ]
  },
  {
   "cell_type": "code",
   "execution_count": null,
   "metadata": {},
   "outputs": [],
   "source": [
    "std_list = [0.0025, 0.005, 0.0075, 0.01, 0.025, 0.05, 0.075, 0.1]\n",
    "for std in std_list:\n",
    "    hd.get_dim_error([5, 10, 100, 1000], d_const, n_steps, dt, n_reps, False, std)"
   ]
  },
  {
   "cell_type": "code",
   "execution_count": null,
   "metadata": {},
   "outputs": [],
   "source": [
    "std_list = [0, 0.00025, 0.0005, 0.00075, 0.001, 0.0025, 0.005, 0.0075, 0.01, 0.025, 0.05, 0.075, 0.1]\n",
    "p_error = np.load('std_'+str(std_list[2])+'.npy')\n",
    "hd.show_error_hist(n_dim, p_error)"
   ]
  },
  {
   "cell_type": "markdown",
   "metadata": {},
   "source": [
    "This was for a fixed amount of localization error. The dimensional effects on estimation error may be dependent on the amount of localization error. So instead, lets find the means above the above hisograms, and repeat for many values of localization error. As a result, we'll see a plot of the mean posterior estimation error as a function of the amount of localization error added, for each number of spatial dimensions."
   ]
  },
  {
   "cell_type": "code",
   "execution_count": null,
   "metadata": {},
   "outputs": [],
   "source": [
    "std_list = [0, 0.00025, 0.0005, 0.00075, 0.001, 0.0025, 0.005, 0.0075, 0.01, 0.025, 0.05, 0.075, 0.1]\n",
    "df_means = pd.DataFrame()\n",
    "n_dim_extended = [1, 2, 3, 5, 10, 100, 1000]\n",
    "for std in std_list:\n",
    "    p_error = np.load('loc_error_saved_files/std_'+str(std)+'.npy')\n",
    "    for dim_n in range(len(n_dim_extended)):\n",
    "        df_means.loc[str(std),dim_n] = np.mean(p_error[dim_n-1])"
   ]
  },
  {
   "cell_type": "code",
   "execution_count": null,
   "metadata": {},
   "outputs": [],
   "source": [
    "for n in range(len(n_dim_extended)):\n",
    "    plt.plot(std_list, df_means[n], label='Dim = '+str(dim[n-1]))\n",
    "plt.yscale('log')\n",
    "plt.xscale('log')\n",
    "plt.xlabel('St Dev of Localization Error Gaussian')\n",
    "plt.ylabel('Mean Percent Error of Posterior')\n",
    "plt.legend();"
   ]
  },
  {
   "cell_type": "markdown",
   "metadata": {},
   "source": [
    "### Average percent error in posterior predictions, for many different trajetory lengths and levels of localization error"
   ]
  },
  {
   "cell_type": "markdown",
   "metadata": {},
   "source": [
    "In each of the above we used a set trajectory length and standard deviation of localization error. Both of these contribute to the error in our posterior estimation. Let's look at how sensitive our error is to these pairs of parameters by looking at the average percent error over 10,000 repete trials for many different pairs of (trajectory length, error)"
   ]
  },
  {
   "cell_type": "code",
   "execution_count": null,
   "metadata": {},
   "outputs": [],
   "source": [
    "df1, df2, df3 = hd.error_sensitivity(d_const=0.1, n_steps_list=[10, 25, 50, 100, 150, 200, 500], dt=1, n_reps=10**4, loc_std=[0, 0.005, 0.01, 0.025, 0.05, 0.1, 0.2])"
   ]
  },
  {
   "cell_type": "code",
   "execution_count": null,
   "metadata": {},
   "outputs": [],
   "source": [
    "df11 = df1.drop(columns=df1.columns[6])\n",
    "df22 = df2.drop(columns=df2.columns[6])\n",
    "df33 = df3.drop(columns=df3.columns[6])\n",
    "\n",
    "size = 8\n",
    "fig4, axs = plt.subplots(1,3, figsize=(3*size,size))\n",
    "    \n",
    "sb.heatmap(df11, ax=axs[0], cmap='viridis', vmin=0, vmax=25);\n",
    "axs[0].set(xlabel = 'Error St Dev', ylabel = 'Trajectory length (T)', title='Dim = 1');\n",
    "axs[0].invert_yaxis()\n",
    "    \n",
    "sb.heatmap(df22, ax=axs[1], cmap='viridis', vmin=0, vmax=25);\n",
    "axs[1].set(xlabel = 'Error St Dev', ylabel = 'Trajectory length (T)', title='Dim = 2');\n",
    "axs[1].invert_yaxis()\n",
    "\n",
    "sb.heatmap(df33, ax=axs[2], cmap='viridis', vmin=0, vmax=25);\n",
    "axs[2].set(xlabel = 'Error St Dev', ylabel = 'Trajectory length (T)', title='Dim = 3');\n",
    "axs[2].invert_yaxis()"
   ]
  },
  {
   "cell_type": "markdown",
   "metadata": {},
   "source": [
    "### Differences by dimension"
   ]
  },
  {
   "cell_type": "markdown",
   "metadata": {},
   "source": [
    "These all look quite similar on this scale. Let's look at their pairwise differences to see the impact of adding spatial dimensions on error."
   ]
  },
  {
   "cell_type": "code",
   "execution_count": null,
   "metadata": {},
   "outputs": [],
   "source": [
    "df12 = df22.subtract(df11)\n",
    "df12 = df12.drop(index=df12.index[0])\n",
    "df13 = df33.subtract(df11)\n",
    "df13 = df13.drop(index=df13.index[0])\n",
    "df23 = df33.subtract(df22)\n",
    "df23 = df23.drop(index=df23.index[0])\n",
    "\n",
    "size = 10\n",
    "fig5, axs = plt.subplots(1,3, figsize=(3*size,size))\n",
    "    \n",
    "sb.heatmap(df12, ax=axs[0], cmap='viridis', vmin=-0.75, vmax=0.5);\n",
    "axs[0].set(xlabel = 'Error St Dev', ylabel = 'Trajectory length (T)', title='Dim 2 - Dim 1');\n",
    "axs[0].invert_yaxis()\n",
    "    \n",
    "sb.heatmap(df13, ax=axs[1], cmap='viridis', vmin=-0.75, vmax=0.5);\n",
    "axs[1].set(xlabel = 'Error St Dev', ylabel = 'Trajectory length (T)', title='Dim 3 - Dim 1');\n",
    "axs[1].invert_yaxis()\n",
    "\n",
    "sb.heatmap(df23, ax=axs[2], cmap='viridis', vmin=-0.75, vmax=0.5);\n",
    "axs[2].set(xlabel = 'Error St Dev', ylabel = 'Trajectory length (T)', title='Dim 3 - Dim 2');\n",
    "axs[2].invert_yaxis()"
   ]
  },
  {
   "cell_type": "code",
   "execution_count": null,
   "metadata": {},
   "outputs": [],
   "source": []
  }
 ],
 "metadata": {
  "kernelspec": {
   "display_name": "Python 3",
   "language": "python",
   "name": "python3"
  },
  "language_info": {
   "codemirror_mode": {
    "name": "ipython",
    "version": 3
   },
   "file_extension": ".py",
   "mimetype": "text/x-python",
   "name": "python",
   "nbconvert_exporter": "python",
   "pygments_lexer": "ipython3",
   "version": "3.7.0"
  }
 },
 "nbformat": 4,
 "nbformat_minor": 2
}
